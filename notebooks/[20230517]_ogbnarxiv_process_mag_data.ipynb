{
 "cells": [
  {
   "cell_type": "code",
   "execution_count": 2,
   "metadata": {},
   "outputs": [],
   "source": [
    "import os\n",
    "from ogb.nodeproppred import PygNodePropPredDataset\n",
    "import torch_geometric.transforms as T\n",
    "import pandas as pd\n",
    "from tqdm import tqdm\n",
    "import json\n",
    "import pickle\n",
    "import os\n",
    "import gzip\n",
    "import re\n",
    "\n",
    "os.chdir(\"/Users/lyk/ds_graph_clf_diverse_experiments\")"
   ]
  },
  {
   "attachments": {},
   "cell_type": "markdown",
   "metadata": {},
   "source": [
    "### Description ###\n",
    "\n",
    "Process additional metadata for the `ogbn-arxiv` dataset, using the dataset's provided node ID to MAG ID mapping. Since MAG has been taken down, we use a July 2020 snapshot of MAG, made available by the Open Academic Graph project, hosted on AMiner [(link)](https://www.aminer.cn/oag-2-1). The ~240M MAG papers are split into 17 ~10GB chunks, each chunk containing 3 ~10GB text files of records adhering to the schema listed under **Data Description**. All chunks were downloaded beforehand.  \n",
    "  \n",
    "We also use the raw texts of titles and abstracts linked under the `ogbn-arxiv` description [on OGB](https://ogb.stanford.edu/docs/nodeprop/#ogbn-arxiv).  \n",
    "\n",
    "### Output ###\n",
    "Pickled DataFrame (`ogbn_arxiv_full_metadata`) with paper MAG IDs (ordered by their node IDs), title, abstract and features for defining the studied edge types: authors, published venues, fields of study. "
   ]
  },
  {
   "cell_type": "code",
   "execution_count": 44,
   "metadata": {},
   "outputs": [],
   "source": [
    "dataset = PygNodePropPredDataset(\"ogbn-arxiv\", root=\"data/\")\n",
    "\n",
    "titleabs = pd.read_csv(\"data/tables/titleabs.tsv\", sep=\"\\t\", names=[\"aid\", \"title\", \"abstract\"])\n",
    "\n",
    "with gzip.open(\"data/ogbn_arxiv/mapping/nodeidx2paperid.csv.gz\", \"rb\") as f:\n",
    "    mapping = pd.read_csv(f)\n",
    "mapping.set_index(\"node idx\", inplace=True)"
   ]
  },
  {
   "cell_type": "code",
   "execution_count": 22,
   "metadata": {},
   "outputs": [
    {
     "data": {
      "text/html": [
       "<div>\n",
       "<style scoped>\n",
       "    .dataframe tbody tr th:only-of-type {\n",
       "        vertical-align: middle;\n",
       "    }\n",
       "\n",
       "    .dataframe tbody tr th {\n",
       "        vertical-align: top;\n",
       "    }\n",
       "\n",
       "    .dataframe thead th {\n",
       "        text-align: right;\n",
       "    }\n",
       "</style>\n",
       "<table border=\"1\" class=\"dataframe\">\n",
       "  <thead>\n",
       "    <tr style=\"text-align: right;\">\n",
       "      <th></th>\n",
       "      <th>title</th>\n",
       "      <th>abstract</th>\n",
       "    </tr>\n",
       "    <tr>\n",
       "      <th>aid</th>\n",
       "      <th></th>\n",
       "      <th></th>\n",
       "    </tr>\n",
       "  </thead>\n",
       "  <tbody>\n",
       "    <tr>\n",
       "      <th>9657784</th>\n",
       "      <td>evasion attacks against machine learning at te...</td>\n",
       "      <td>In security-sensitive applications, the succes...</td>\n",
       "    </tr>\n",
       "    <tr>\n",
       "      <th>39886162</th>\n",
       "      <td>how hard is computing parity with noisy commun...</td>\n",
       "      <td>We show a tight lower bound of $\\Omega(N \\log\\...</td>\n",
       "    </tr>\n",
       "    <tr>\n",
       "      <th>116214155</th>\n",
       "      <td>on the absence of the rip in real world applic...</td>\n",
       "      <td>The purpose of this paper is twofold. The firs...</td>\n",
       "    </tr>\n",
       "    <tr>\n",
       "      <th>121432379</th>\n",
       "      <td>a promise theory perspective on data networks</td>\n",
       "      <td>Networking is undergoing a transformation thro...</td>\n",
       "    </tr>\n",
       "    <tr>\n",
       "      <th>231147053</th>\n",
       "      <td>analysis of asymptotically optimal sampling ba...</td>\n",
       "      <td>Over the last 20 years significant effort has ...</td>\n",
       "    </tr>\n",
       "  </tbody>\n",
       "</table>\n",
       "</div>"
      ],
      "text/plain": [
       "                                                       title  \\\n",
       "aid                                                            \n",
       "9657784    evasion attacks against machine learning at te...   \n",
       "39886162   how hard is computing parity with noisy commun...   \n",
       "116214155  on the absence of the rip in real world applic...   \n",
       "121432379      a promise theory perspective on data networks   \n",
       "231147053  analysis of asymptotically optimal sampling ba...   \n",
       "\n",
       "                                                    abstract  \n",
       "aid                                                           \n",
       "9657784    In security-sensitive applications, the succes...  \n",
       "39886162   We show a tight lower bound of $\\Omega(N \\log\\...  \n",
       "116214155  The purpose of this paper is twofold. The firs...  \n",
       "121432379  Networking is undergoing a transformation thro...  \n",
       "231147053  Over the last 20 years significant effort has ...  "
      ]
     },
     "execution_count": 22,
     "metadata": {},
     "output_type": "execute_result"
    }
   ],
   "source": [
    "titleabs = titleabs.set_index(\"aid\").loc[mapping[\"paper id\"].values]\n",
    "titleabs.head()"
   ]
  },
  {
   "cell_type": "code",
   "execution_count": 29,
   "metadata": {},
   "outputs": [],
   "source": [
    "joined = mapping.merge(titleabs, left_on=\"paper id\", right_on=\"aid\")"
   ]
  },
  {
   "cell_type": "code",
   "execution_count": null,
   "metadata": {},
   "outputs": [],
   "source": [
    "def process_mag_folder(folder, ids):\n",
    "    \"\"\"Filters all text files in a MAG chunk, saves out the records corresponding to IDs in `ogbn-arxiv`. \n",
    "\n",
    "    Args:\n",
    "        folder (str): name of chunk folder i.e. mag_papers_{0-16}.\n",
    "        ids (set): set of MAG IDs in `ogbn-arxiv`.\n",
    "\n",
    "    Output:\n",
    "        results (List[dict]): list of relevant records.\n",
    "    \"\"\"\n",
    "    results = []\n",
    "    files = os.listdir(f\"data/mag/{folder}\")\n",
    "    for i in tqdm(range(len(files))):\n",
    "        with open(f\"data/mag/{folder}/{files[i]}\", \"rb\") as f:\n",
    "            for line in f:\n",
    "                res = json.loads(line)\n",
    "                if res[\"id\"] in ids:\n",
    "                    results.append(res)\n",
    "    with open(f\"data/mag/in_ogbn_arxiv/results_{folder}.pkl\", \"wb\") as f:\n",
    "        pickle.dump(results, f)\n",
    "    return results"
   ]
  },
  {
   "cell_type": "code",
   "execution_count": null,
   "metadata": {},
   "outputs": [],
   "source": [
    "# All MAG chunks are too large to be unzipped simultaneously, so we unzip and run `process_mag_folder` for each chunk procedurally. \n",
    "# Change the `folder` arg.\n",
    "\n",
    "results = process_mag_folder(\"mag_papers_16\", set(joined[\"paper id\"]))"
   ]
  },
  {
   "cell_type": "code",
   "execution_count": null,
   "metadata": {},
   "outputs": [],
   "source": [
    "# Concatenate the per-chunk results of `process_mag_folder` into one list. \n",
    "\n",
    "files = os.listdir(f\"data/mag/in_ogbn_arxiv\")\n",
    "in_ogbn_arxiv = []\n",
    "for i in tqdm(range(len(files))):\n",
    "    with open(f\"data/mag/in_ogbn_arxiv/{files[i]}\", \"rb\") as f:\n",
    "        temp = pickle.load(f)\n",
    "        in_ogbn_arxiv.extend(temp)\n",
    "        f.close()"
   ]
  },
  {
   "cell_type": "code",
   "execution_count": null,
   "metadata": {},
   "outputs": [],
   "source": [
    "df_ogbn = pd.DataFrame.from_records(in_ogbn_arxiv)\n",
    "df_ogbn = joined.merge(df_ogbn, left_on=\"paper id\", right_on=\"id\", how=\"left\")\n",
    "df_ogbn = df_ogbn.drop([\"id\", \"title_y\"], axis=1).rename(columns={\"title_x\":\"title\"})\n",
    "df_ogbn.head()"
   ]
  },
  {
   "cell_type": "code",
   "execution_count": 35,
   "metadata": {},
   "outputs": [],
   "source": [
    "df_ogbn.to_parquet(\"ogbnarxiv_mag_metadata.parquet.gzip\", compression=\"gzip\")"
   ]
  }
 ],
 "metadata": {
  "kernelspec": {
   "display_name": "base",
   "language": "python",
   "name": "python3"
  },
  "language_info": {
   "codemirror_mode": {
    "name": "ipython",
    "version": 3
   },
   "file_extension": ".py",
   "mimetype": "text/x-python",
   "name": "python",
   "nbconvert_exporter": "python",
   "pygments_lexer": "ipython3",
   "version": "3.10.8"
  },
  "orig_nbformat": 4
 },
 "nbformat": 4,
 "nbformat_minor": 2
}
